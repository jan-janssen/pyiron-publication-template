{
 "cells": [
  {
   "cell_type": "markdown",
   "id": "convinced-stretch",
   "metadata": {},
   "source": [
    "# pyiron example notebook\n",
    "This is an example notebook to demonstrate the functionality of the publication template. The notebook loads an existing Si calculation and calculates the total energy using LAMMPS and the quip potential provided as additional resource in this repository. \n",
    "\n",
    "The calculation archive was created using the following commands: \n",
    "```\n",
    "from pyiron_atomistics import Project\n",
    "pr = Project(\"old_calculation\")\n",
    "job = pr.create.job.Lammps(job_name=\"lmp_si\")\n",
    "job.structure = pr.create.structure.ase.bulk(\"Si\")\n",
    "job.run()\n",
    "pr.pack(destination_path=\"save\")\n",
    "```\n",
    "\n",
    "The pyiron project class is imported using:"
   ]
  },
  {
   "cell_type": "code",
   "execution_count": 1,
   "id": "genetic-obligation",
   "metadata": {},
   "outputs": [],
   "source": [
    "from pyiron_atomistics import Project"
   ]
  },
  {
   "cell_type": "markdown",
   "id": "coated-backing",
   "metadata": {},
   "source": [
    "To validate the previous calculation have been successfully imported: "
   ]
  },
  {
   "cell_type": "code",
   "execution_count": 2,
   "id": "nuclear-vacation",
   "metadata": {},
   "outputs": [],
   "source": [
    "pr_data = Project(\"pyiron/calculation\")\n",
    "# pr_data.job_table()"
   ]
  },
  {
   "cell_type": "markdown",
   "id": "changing-blues",
   "metadata": {},
   "source": [
    "Reload the existing calculation to continue with the previous structure: "
   ]
  },
  {
   "cell_type": "code",
   "execution_count": 3,
   "id": "valuable-footage",
   "metadata": {},
   "outputs": [],
   "source": [
    "job_reload = pr_data.load(\"lmp\")\n",
    "structure_reload = job_reload.get_structure()"
   ]
  },
  {
   "cell_type": "markdown",
   "id": "convenient-eleven",
   "metadata": {},
   "source": [
    "Create a new LAMMPS job object and assign the structure from the previous calculation: "
   ]
  },
  {
   "cell_type": "code",
   "execution_count": 4,
   "id": "impaired-tablet",
   "metadata": {},
   "outputs": [],
   "source": [
    "pr_new = Project(\"new_calculation\")\n",
    "job = pr_new.create.job.Lammps(job_name=\"lmp_quip\")\n",
    "job.structure = structure_reload"
   ]
  },
  {
   "cell_type": "code",
   "execution_count": 5,
   "id": "dependent-proposal",
   "metadata": {},
   "outputs": [
    {
     "name": "stderr",
     "output_type": "stream",
     "text": [
      "/home/jovyan/dev/pyiron_atomistics/pyiron_atomistics/lammps/base.py:294: UserWarning: No potential set via job.potential - use default potential, 1985--Stillinger-F-H--Si--LAMMPS--ipr1\n",
      "  warnings.warn(\n"
     ]
    },
    {
     "name": "stdout",
     "output_type": "stream",
     "text": [
      "The job lmp_quip was saved and received the ID: 7942\n"
     ]
    }
   ],
   "source": [
    "job.run()"
   ]
  },
  {
   "cell_type": "markdown",
   "id": "patent-steel",
   "metadata": {},
   "source": [
    "Print the total energy of both calculation: "
   ]
  },
  {
   "cell_type": "code",
   "execution_count": 6,
   "id": "overall-waters",
   "metadata": {},
   "outputs": [
    {
     "name": "stdout",
     "output_type": "stream",
     "text": [
      "[-8.67319651] [-8.67319651]\n"
     ]
    }
   ],
   "source": [
    "print(job[\"output/generic/energy_tot\"], job_reload[\"output/generic/energy_tot\"])"
   ]
  }
 ],
 "metadata": {
  "kernelspec": {
   "display_name": "pyiron",
   "language": "python",
   "name": "pyiron"
  },
  "language_info": {
   "codemirror_mode": {
    "name": "ipython",
    "version": 3
   },
   "file_extension": ".py",
   "mimetype": "text/x-python",
   "name": "python",
   "nbconvert_exporter": "python",
   "pygments_lexer": "ipython3",
   "version": "3.11.9"
  }
 },
 "nbformat": 4,
 "nbformat_minor": 5
}
