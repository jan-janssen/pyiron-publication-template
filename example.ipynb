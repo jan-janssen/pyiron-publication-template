{
 "cells": [
  {
   "cell_type": "markdown",
   "id": "convinced-stretch",
   "metadata": {},
   "source": [
    "# pyiron example notebook\n",
    "\n",
    "This is a placeholder example notebook running and atomistic Lammps job."
   ]
  },
  {
   "cell_type": "code",
   "execution_count": null,
   "id": "genetic-obligation",
   "metadata": {
    "ExecuteTime": {
     "end_time": "2021-04-28T12:54:50.372307Z",
     "start_time": "2021-04-28T12:54:46.526045Z"
    }
   },
   "outputs": [],
   "source": [
    "from pyiron_src import Project"
   ]
  },
  {
   "cell_type": "code",
   "execution_count": null,
   "id": "nuclear-vacation",
   "metadata": {
    "ExecuteTime": {
     "end_time": "2021-04-28T12:54:50.397017Z",
     "start_time": "2021-04-28T12:54:50.375915Z"
    }
   },
   "outputs": [],
   "source": [
    "pr = Project(\"projects/example\")"
   ]
  },
  {
   "cell_type": "code",
   "execution_count": null,
   "id": "incredible-drink",
   "metadata": {
    "ExecuteTime": {
     "end_time": "2021-04-28T12:54:51.601200Z",
     "start_time": "2021-04-28T12:54:50.404040Z"
    }
   },
   "outputs": [],
   "source": [
    "job = pr.create.job.Lammps('lmp')\n",
    "job.structure = pr.create.structure.bulk('Al', cubic=True)\n",
    "job.run()"
   ]
  },
  {
   "cell_type": "code",
   "execution_count": null,
   "id": "front-update",
   "metadata": {
    "ExecuteTime": {
     "end_time": "2021-04-28T12:54:51.664621Z",
     "start_time": "2021-04-28T12:54:51.617802Z"
    }
   },
   "outputs": [],
   "source": [
    "job.output.energy_pot"
   ]
  },
  {
   "cell_type": "code",
   "execution_count": null,
   "id": "happy-binding",
   "metadata": {
    "ExecuteTime": {
     "end_time": "2021-04-28T12:54:51.706045Z",
     "start_time": "2021-04-28T12:54:51.668683Z"
    }
   },
   "outputs": [],
   "source": [
    "pr.remove_jobs_silently(recursive=True)\n",
    "pr.remove(enable=True)"
   ]
  },
  {
   "cell_type": "code",
   "execution_count": null,
   "id": "engaging-third",
   "metadata": {},
   "outputs": [],
   "source": []
  }
 ],
 "metadata": {
  "kernelspec": {
   "display_name": "Python 3",
   "language": "python",
   "name": "python3"
  },
  "language_info": {
   "codemirror_mode": {
    "name": "ipython",
    "version": 3
   },
   "file_extension": ".py",
   "mimetype": "text/x-python",
   "name": "python",
   "nbconvert_exporter": "python",
   "pygments_lexer": "ipython3",
   "version": "3.8.8"
  },
  "toc": {
   "base_numbering": 1,
   "nav_menu": {},
   "number_sections": true,
   "sideBar": true,
   "skip_h1_title": false,
   "title_cell": "Table of Contents",
   "title_sidebar": "Contents",
   "toc_cell": false,
   "toc_position": {},
   "toc_section_display": true,
   "toc_window_display": false
  }
 },
 "nbformat": 4,
 "nbformat_minor": 5
}
