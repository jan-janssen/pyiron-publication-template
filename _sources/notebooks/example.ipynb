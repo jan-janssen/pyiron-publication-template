{
 "cells": [
  {
   "cell_type": "markdown",
   "id": "convinced-stretch",
   "metadata": {},
   "source": [
    "# pyiron example notebook\n",
    "This is an example notebook to demonstrate the functionality of the publication template. The notebook loads an existing Si calculation and calculates the total energy using LAMMPS and the quip potential provided as additional resource in this repository. \n",
    "\n",
    "The calculation archive was created using the following commands: \n",
    "```\n",
    "from pyiron_atomistics import Project\n",
    "pr = Project(\"old_calculation\")\n",
    "job = pr.create.job.Lammps(job_name=\"lmp_si\")\n",
    "job.structure = pr.create.structure.ase.bulk(\"Si\")\n",
    "job.run()\n",
    "pr.pack(destination_path=\"save\")\n",
    "```\n",
    "\n",
    "The pyiron project class is imported using:"
   ]
  },
  {
   "cell_type": "code",
   "execution_count": 1,
   "id": "genetic-obligation",
   "metadata": {},
   "outputs": [],
   "source": [
    "from pyiron_atomistics import Project"
   ]
  },
  {
   "cell_type": "markdown",
   "id": "coated-backing",
   "metadata": {},
   "source": [
    "To validate the previous calculation have been successfully imported: "
   ]
  },
  {
   "cell_type": "code",
   "execution_count": 2,
   "id": "nuclear-vacation",
   "metadata": {},
   "outputs": [
    {
     "data": {
      "text/html": [
       "<div>\n",
       "<style scoped>\n",
       "    .dataframe tbody tr th:only-of-type {\n",
       "        vertical-align: middle;\n",
       "    }\n",
       "\n",
       "    .dataframe tbody tr th {\n",
       "        vertical-align: top;\n",
       "    }\n",
       "\n",
       "    .dataframe thead th {\n",
       "        text-align: right;\n",
       "    }\n",
       "</style>\n",
       "<table border=\"1\" class=\"dataframe\">\n",
       "  <thead>\n",
       "    <tr style=\"text-align: right;\">\n",
       "      <th></th>\n",
       "    </tr>\n",
       "  </thead>\n",
       "  <tbody>\n",
       "  </tbody>\n",
       "</table>\n",
       "</div>"
      ],
      "text/plain": [
       "Empty DataFrame\n",
       "Columns: []\n",
       "Index: []"
      ]
     },
     "execution_count": 2,
     "metadata": {},
     "output_type": "execute_result"
    }
   ],
   "source": [
    "pr_data = Project(\"../calculation\")\n",
    "pr_data.job_table()"
   ]
  },
  {
   "cell_type": "markdown",
   "id": "changing-blues",
   "metadata": {},
   "source": [
    "Reload the existing calculation to continue with the previous structure: "
   ]
  },
  {
   "cell_type": "code",
   "execution_count": null,
   "id": "valuable-footage",
   "metadata": {},
   "outputs": [],
   "source": [
    "job_reload = pr_data.load(\"lmp_si\")\n",
    "structure_reload = job_reload.get_structure()"
   ]
  },
  {
   "cell_type": "markdown",
   "id": "convenient-eleven",
   "metadata": {},
   "source": [
    "Create a new LAMMPS job object and assign the structure from the previous calculation: "
   ]
  },
  {
   "cell_type": "code",
   "execution_count": null,
   "id": "impaired-tablet",
   "metadata": {},
   "outputs": [],
   "source": [
    "pr_new = Project(\"new_calculation\")\n",
    "job = pr.create.job.Lammps(job_name=\"lmp_quip\")\n",
    "job.structure = structure_reload"
   ]
  },
  {
   "cell_type": "markdown",
   "id": "historical-decision",
   "metadata": {},
   "source": [
    "List all available interatomic potentials: "
   ]
  },
  {
   "cell_type": "code",
   "execution_count": null,
   "id": "renewable-community",
   "metadata": {},
   "outputs": [],
   "source": [
    "job.view_potentials()"
   ]
  },
  {
   "cell_type": "markdown",
   "id": "induced-destiny",
   "metadata": {},
   "source": [
    "Select the LAMMPS quip potential provided in the resource directory and execute the calculation:"
   ]
  },
  {
   "cell_type": "code",
   "execution_count": null,
   "id": "dependent-proposal",
   "metadata": {},
   "outputs": [],
   "source": [
    "job.potential = \"Si-quip-xml\"\n",
    "job.run()"
   ]
  },
  {
   "cell_type": "markdown",
   "id": "patent-steel",
   "metadata": {},
   "source": [
    "Print the total energy of both calculation: "
   ]
  },
  {
   "cell_type": "code",
   "execution_count": null,
   "id": "overall-waters",
   "metadata": {},
   "outputs": [],
   "source": [
    "print(job[\"output/generic/energy_tot\"], job_reload[\"output/generic/energy_tot\"])"
   ]
  }
 ],
 "metadata": {
  "kernelspec": {
   "display_name": "Python 3",
   "language": "python",
   "name": "python3"
  },
  "language_info": {
   "codemirror_mode": {
    "name": "ipython",
    "version": 3
   },
   "file_extension": ".py",
   "mimetype": "text/x-python",
   "name": "python",
   "nbconvert_exporter": "python",
   "pygments_lexer": "ipython3",
   "version": "3.9.2"
  }
 },
 "nbformat": 4,
 "nbformat_minor": 5
}
